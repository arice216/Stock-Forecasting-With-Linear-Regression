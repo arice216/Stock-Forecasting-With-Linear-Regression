{
 "cells": [
  {
   "cell_type": "code",
   "execution_count": 1,
   "id": "aed3a63d",
   "metadata": {},
   "outputs": [
    {
     "data": {
      "text/plain": [
       "[1, 2, 3, 4, 5]"
      ]
     },
     "execution_count": 1,
     "metadata": {},
     "output_type": "execute_result"
    }
   ],
   "source": [
    "a=[1,2,3,4,5]\n",
    "import numpy as np\n",
    "a_np=np.array(a)\n",
    "a"
   ]
  },
  {
   "cell_type": "code",
   "execution_count": 2,
   "id": "8797c527",
   "metadata": {},
   "outputs": [
    {
     "data": {
      "text/plain": [
       "array([3, 4, 5])"
      ]
     },
     "execution_count": 2,
     "metadata": {},
     "output_type": "execute_result"
    }
   ],
   "source": [
    "a_np[2:]"
   ]
  },
  {
   "cell_type": "code",
   "execution_count": 3,
   "id": "a69fd8d2",
   "metadata": {},
   "outputs": [
    {
     "data": {
      "text/plain": [
       "array([2, 3, 4, 5])"
      ]
     },
     "execution_count": 3,
     "metadata": {},
     "output_type": "execute_result"
    }
   ],
   "source": [
    "a_np[1:]"
   ]
  },
  {
   "cell_type": "code",
   "execution_count": null,
   "id": "f121c421",
   "metadata": {},
   "outputs": [],
   "source": []
  },
  {
   "cell_type": "code",
   "execution_count": 5,
   "id": "a5217a8b",
   "metadata": {},
   "outputs": [
    {
     "data": {
      "text/plain": [
       "array([[9.4, 2.5]])"
      ]
     },
     "execution_count": 5,
     "metadata": {},
     "output_type": "execute_result"
    }
   ],
   "source": [
    "np_2d = np.array([[1.5, 6.4, 7.8, 2.2],\n",
    "                  [4.3, 8.7, 1.9, 3.4],\n",
    "                  [5.3, 7.3, 9.4, 2.5]])\n",
    "np_2d[2:,2:]"
   ]
  },
  {
   "cell_type": "code",
   "execution_count": null,
   "id": "3fcdf8ca",
   "metadata": {},
   "outputs": [],
   "source": []
  },
  {
   "cell_type": "code",
   "execution_count": null,
   "id": "e84a3fb1",
   "metadata": {},
   "outputs": [],
   "source": []
  },
  {
   "cell_type": "code",
   "execution_count": null,
   "id": "9580f017",
   "metadata": {},
   "outputs": [],
   "source": []
  },
  {
   "cell_type": "code",
   "execution_count": 10,
   "id": "efd04a55",
   "metadata": {},
   "outputs": [],
   "source": [
    "b=list(a_np)"
   ]
  },
  {
   "cell_type": "code",
   "execution_count": 11,
   "id": "9668c86c",
   "metadata": {},
   "outputs": [
    {
     "data": {
      "text/plain": [
       "[1, 2, 3, 4, 5]"
      ]
     },
     "execution_count": 11,
     "metadata": {},
     "output_type": "execute_result"
    }
   ],
   "source": [
    "b"
   ]
  },
  {
   "cell_type": "code",
   "execution_count": 24,
   "id": "3592a543",
   "metadata": {},
   "outputs": [],
   "source": [
    "import numpy as np\n",
    "hematies = [4.51, 4.92, 4.66, 4.63, 4.67, 4.72, 4.76, 4.76, 4.57, 4.58, 4.46, 4.63, 4.59, 4.46] # nb de globules rouges\n",
    "\n",
    "vgm = [94.0, 93.0, 93.0, 93.4, 93.4, 94.4, 93.6, 94.3, 94.9, 94.9, 96.8, 95.2, 95.0, 97.2]\n",
    "mgv=np.array(vgm)-[0.09] # taille des globules rouges"
   ]
  },
  {
   "cell_type": "code",
   "execution_count": 36,
   "id": "89105197",
   "metadata": {},
   "outputs": [
    {
     "data": {
      "image/png": "[encoded data removed]",
      "text/plain": [
       "<Figure size 640x480 with 1 Axes>"
      ]
     },
     "metadata": {},
     "output_type": "display_data"
    }
   ],
   "source": [
    "import matplotlib.pyplot as plt\n",
    "#Graphique en nuage de points\n",
    "plt.scatter(hematies,mgv,)\n",
    "#Annotation de l'axe des abcisses\n",
    "plt.xlabel('Hematies(axe des abcisses)')\n",
    "#Annotation du graphique\n",
    "plt.title('Répartion des globules rouges')\n",
    "#Présentation du graphique\n",
    "plt.show()\n"
   ]
  },
  {
   "cell_type": "code",
   "execution_count": 6,
   "id": "a8e52168",
   "metadata": {
    "scrolled": true
   },
   "outputs": [
    {
     "data": {
      "text/plain": [
       "'C:\\\\Users\\\\DELL\\\\Documents\\\\Projets python'"
      ]
     },
     "execution_count": 6,
     "metadata": {},
     "output_type": "execute_result"
    }
   ],
   "source": [
    "import pandas as pd\n",
    "%pwd\n"
   ]
  },
  {
   "cell_type": "code",
   "execution_count": 21,
   "id": "d7bca763",
   "metadata": {},
   "outputs": [
    {
     "data": {
      "text/html": [
       "<div>\n",
       "<style scoped>\n",
       "    .dataframe tbody tr th:only-of-type {\n",
       "        vertical-align: middle;\n",
       "    }\n",
       "\n",
       "    .dataframe tbody tr th {\n",
       "        vertical-align: top;\n",
       "    }\n",
       "\n",
       "    .dataframe thead th {\n",
       "        text-align: right;\n",
       "    }\n",
       "</style>\n",
       "<table border=\"1\" class=\"dataframe\">\n",
       "  <thead>\n",
       "    <tr style=\"text-align: right;\">\n",
       "      <th></th>\n",
       "      <th>symbole</th>\n",
       "      <th>date</th>\n",
       "      <th>ouverture</th>\n",
       "      <th>haut</th>\n",
       "      <th>bas</th>\n",
       "      <th>cloture</th>\n",
       "      <th>volume</th>\n",
       "    </tr>\n",
       "  </thead>\n",
       "  <tbody>\n",
       "    <tr>\n",
       "      <th>0</th>\n",
       "      <td>BOABF.bf</td>\n",
       "      <td>01/02/2023</td>\n",
       "      <td>5150</td>\n",
       "      <td>5350</td>\n",
       "      <td>5150</td>\n",
       "      <td>5350</td>\n",
       "      <td>66</td>\n",
       "    </tr>\n",
       "    <tr>\n",
       "      <th>1</th>\n",
       "      <td>BOABF.bf</td>\n",
       "      <td>02/02/2023</td>\n",
       "      <td>5395</td>\n",
       "      <td>5395</td>\n",
       "      <td>5275</td>\n",
       "      <td>5275</td>\n",
       "      <td>224</td>\n",
       "    </tr>\n",
       "    <tr>\n",
       "      <th>2</th>\n",
       "      <td>BOABF.bf</td>\n",
       "      <td>03/02/2023</td>\n",
       "      <td>5400</td>\n",
       "      <td>5400</td>\n",
       "      <td>5400</td>\n",
       "      <td>5400</td>\n",
       "      <td>226</td>\n",
       "    </tr>\n",
       "    <tr>\n",
       "      <th>3</th>\n",
       "      <td>BOABF.bf</td>\n",
       "      <td>06/02/2023</td>\n",
       "      <td>5115</td>\n",
       "      <td>5500</td>\n",
       "      <td>5115</td>\n",
       "      <td>5500</td>\n",
       "      <td>83</td>\n",
       "    </tr>\n",
       "    <tr>\n",
       "      <th>4</th>\n",
       "      <td>BOABF.bf</td>\n",
       "      <td>07/02/2023</td>\n",
       "      <td>5400</td>\n",
       "      <td>5500</td>\n",
       "      <td>5400</td>\n",
       "      <td>5500</td>\n",
       "      <td>447</td>\n",
       "    </tr>\n",
       "    <tr>\n",
       "      <th>5</th>\n",
       "      <td>BOABF.bf</td>\n",
       "      <td>08/02/2023</td>\n",
       "      <td>5395</td>\n",
       "      <td>5790</td>\n",
       "      <td>5395</td>\n",
       "      <td>5790</td>\n",
       "      <td>3202</td>\n",
       "    </tr>\n",
       "    <tr>\n",
       "      <th>6</th>\n",
       "      <td>BOABF.bf</td>\n",
       "      <td>09/02/2023</td>\n",
       "      <td>5790</td>\n",
       "      <td>5790</td>\n",
       "      <td>5790</td>\n",
       "      <td>5790</td>\n",
       "      <td>11</td>\n",
       "    </tr>\n",
       "    <tr>\n",
       "      <th>7</th>\n",
       "      <td>BOABF.bf</td>\n",
       "      <td>10/02/2023</td>\n",
       "      <td>5360</td>\n",
       "      <td>5700</td>\n",
       "      <td>5360</td>\n",
       "      <td>5700</td>\n",
       "      <td>90</td>\n",
       "    </tr>\n",
       "    <tr>\n",
       "      <th>8</th>\n",
       "      <td>BOABF.bf</td>\n",
       "      <td>13/02/2023</td>\n",
       "      <td>5360</td>\n",
       "      <td>5685</td>\n",
       "      <td>5360</td>\n",
       "      <td>5685</td>\n",
       "      <td>610</td>\n",
       "    </tr>\n",
       "    <tr>\n",
       "      <th>9</th>\n",
       "      <td>BOABF.bf</td>\n",
       "      <td>14/02/2023</td>\n",
       "      <td>5290</td>\n",
       "      <td>5400</td>\n",
       "      <td>5290</td>\n",
       "      <td>5400</td>\n",
       "      <td>115</td>\n",
       "    </tr>\n",
       "    <tr>\n",
       "      <th>10</th>\n",
       "      <td>BOABF.bf</td>\n",
       "      <td>15/02/2023</td>\n",
       "      <td>5250</td>\n",
       "      <td>5250</td>\n",
       "      <td>5210</td>\n",
       "      <td>5210</td>\n",
       "      <td>1446</td>\n",
       "    </tr>\n",
       "    <tr>\n",
       "      <th>11</th>\n",
       "      <td>BOABF.bf</td>\n",
       "      <td>16/02/2023</td>\n",
       "      <td>5250</td>\n",
       "      <td>5350</td>\n",
       "      <td>5250</td>\n",
       "      <td>5350</td>\n",
       "      <td>1060</td>\n",
       "    </tr>\n",
       "    <tr>\n",
       "      <th>12</th>\n",
       "      <td>BOABF.bf</td>\n",
       "      <td>17/02/2023</td>\n",
       "      <td>5255</td>\n",
       "      <td>5350</td>\n",
       "      <td>5255</td>\n",
       "      <td>5350</td>\n",
       "      <td>65</td>\n",
       "    </tr>\n",
       "    <tr>\n",
       "      <th>13</th>\n",
       "      <td>BOABF.bf</td>\n",
       "      <td>20/02/2023</td>\n",
       "      <td>5350</td>\n",
       "      <td>5350</td>\n",
       "      <td>5300</td>\n",
       "      <td>5300</td>\n",
       "      <td>1991</td>\n",
       "    </tr>\n",
       "    <tr>\n",
       "      <th>14</th>\n",
       "      <td>BOABF.bf</td>\n",
       "      <td>21/02/2023</td>\n",
       "      <td>5300</td>\n",
       "      <td>5300</td>\n",
       "      <td>5300</td>\n",
       "      <td>5300</td>\n",
       "      <td>626</td>\n",
       "    </tr>\n",
       "    <tr>\n",
       "      <th>15</th>\n",
       "      <td>BOABF.bf</td>\n",
       "      <td>22/02/2023</td>\n",
       "      <td>5200</td>\n",
       "      <td>5300</td>\n",
       "      <td>5200</td>\n",
       "      <td>5300</td>\n",
       "      <td>2285</td>\n",
       "    </tr>\n",
       "    <tr>\n",
       "      <th>16</th>\n",
       "      <td>BOABF.bf</td>\n",
       "      <td>23/02/2023</td>\n",
       "      <td>5290</td>\n",
       "      <td>5290</td>\n",
       "      <td>5200</td>\n",
       "      <td>5200</td>\n",
       "      <td>167</td>\n",
       "    </tr>\n",
       "  </tbody>\n",
       "</table>\n",
       "</div>"
      ],
      "text/plain": [
       "     symbole        date  ouverture  haut   bas  cloture  volume\n",
       "0   BOABF.bf  01/02/2023       5150  5350  5150     5350      66\n",
       "1   BOABF.bf  02/02/2023       5395  5395  5275     5275     224\n",
       "2   BOABF.bf  03/02/2023       5400  5400  5400     5400     226\n",
       "3   BOABF.bf  06/02/2023       5115  5500  5115     5500      83\n",
       "4   BOABF.bf  07/02/2023       5400  5500  5400     5500     447\n",
       "5   BOABF.bf  08/02/2023       5395  5790  5395     5790    3202\n",
       "6   BOABF.bf  09/02/2023       5790  5790  5790     5790      11\n",
       "7   BOABF.bf  10/02/2023       5360  5700  5360     5700      90\n",
       "8   BOABF.bf  13/02/2023       5360  5685  5360     5685     610\n",
       "9   BOABF.bf  14/02/2023       5290  5400  5290     5400     115\n",
       "10  BOABF.bf  15/02/2023       5250  5250  5210     5210    1446\n",
       "11  BOABF.bf  16/02/2023       5250  5350  5250     5350    1060\n",
       "12  BOABF.bf  17/02/2023       5255  5350  5255     5350      65\n",
       "13  BOABF.bf  20/02/2023       5350  5350  5300     5300    1991\n",
       "14  BOABF.bf  21/02/2023       5300  5300  5300     5300     626\n",
       "15  BOABF.bf  22/02/2023       5200  5300  5200     5300    2285\n",
       "16  BOABF.bf  23/02/2023       5290  5290  5200     5200     167"
      ]
     },
     "execution_count": 21,
     "metadata": {},
     "output_type": "execute_result"
    }
   ],
   "source": [
    "x=pd.read_csv(\"cotations_BOABF.bf.csv\",sep=\";\")\n",
    "x"
   ]
  },
  {
   "cell_type": "code",
   "execution_count": 22,
   "id": "f4c7b396",
   "metadata": {},
   "outputs": [
    {
     "data": {
      "text/plain": [
       "<function matplotlib.pyplot.show(close=None, block=None)>"
      ]
     },
     "execution_count": 22,
     "metadata": {},
     "output_type": "execute_result"
    },
    {
     "data": {
      "image/png": "[encoded data removed]",
      "text/plain": [
       "<Figure size 640x480 with 1 Axes>"
      ]
     },
     "metadata": {},
     "output_type": "display_data"
    }
   ],
   "source": [
    "import matplotlib.pyplot as plt\n",
    "import numpy as np\n",
    "x[\"cloture\"].hist()\n",
    "plt.show"
   ]
  },
  {
   "cell_type": "code",
   "execution_count": 17,
   "id": "aabaaec1",
   "metadata": {},
   "outputs": [
    {
     "ename": "TypeError",
     "evalue": "FigureBase.gca() got an unexpected keyword argument 'projection'",
     "output_type": "error",
     "traceback": [
      "\u001b[1;31m---------------------------------------------------------------------------\u001b[0m",
      "\u001b[1;31mTypeError\u001b[0m                                 Traceback (most recent call last)",
      "Cell \u001b[1;32mIn[17], line 17\u001b[0m\n\u001b[0;32m     13\u001b[0m \u001b[38;5;28;01mfrom\u001b[39;00m \u001b[38;5;21;01mmpl_toolkits\u001b[39;00m\u001b[38;5;21;01m.\u001b[39;00m\u001b[38;5;21;01mmplot3d\u001b[39;00m \u001b[38;5;28;01mimport\u001b[39;00m Axes3D\n\u001b[0;32m     15\u001b[0m fig \u001b[38;5;241m=\u001b[39m plt\u001b[38;5;241m.\u001b[39mfigure()\n\u001b[1;32m---> 17\u001b[0m ax \u001b[38;5;241m=\u001b[39m \u001b[43mfig\u001b[49m\u001b[38;5;241;43m.\u001b[39;49m\u001b[43mgca\u001b[49m\u001b[43m(\u001b[49m\u001b[43mprojection\u001b[49m\u001b[38;5;241;43m=\u001b[39;49m\u001b[38;5;124;43m'\u001b[39;49m\u001b[38;5;124;43m3d\u001b[39;49m\u001b[38;5;124;43m'\u001b[39;49m\u001b[43m)\u001b[49m\n\u001b[0;32m     19\u001b[0m ax\u001b[38;5;241m.\u001b[39mscatter(x,y,z, zdir\u001b[38;5;241m=\u001b[39m\u001b[38;5;124m'\u001b[39m\u001b[38;5;124mz\u001b[39m\u001b[38;5;124m'\u001b[39m,s\u001b[38;5;241m=\u001b[39m\u001b[38;5;241m40\u001b[39m,depthshade\u001b[38;5;241m=\u001b[39m\u001b[38;5;28;01mTrue\u001b[39;00m)\n\u001b[0;32m     21\u001b[0m \u001b[38;5;66;03m# Paramétrer le graphique\u001b[39;00m\n",
      "\u001b[1;31mTypeError\u001b[0m: FigureBase.gca() got an unexpected keyword argument 'projection'"
     ]
    },
    {
     "data": {
      "text/plain": [
       "<Figure size 640x480 with 0 Axes>"
      ]
     },
     "metadata": {},
     "output_type": "display_data"
    }
   ],
   "source": [
    "import numpy as np\n",
    "\n",
    "x = np.random.normal(size=15,loc=10,scale=3)\n",
    "\n",
    "y = np.random.normal(size=15,loc=10,scale=3)\n",
    "\n",
    "z = np.random.normal(size=15,loc=10,scale=3)\n",
    "\n",
    "# Tracer le graphique\n",
    "\n",
    "import matplotlib.pyplot as plt\n",
    "\n",
    "from mpl_toolkits.mplot3d import Axes3D\n",
    "\n",
    "fig = plt.figure()\n",
    "\n",
    "ax = fig.gca(projection='3d')\n",
    "\n",
    "ax.scatter(x,y,z, zdir='z',s=40,depthshade=True)\n",
    "\n",
    "# Paramétrer le graphique\n",
    "\n",
    "ax.set_xlim3d([0.0, 20.0]) ; ax.set_xlabel('X')\n",
    "\n",
    "ax.set_ylim3d([0.0, 20.0]) ; ax.set_ylabel('Y')\n",
    "\n",
    "ax.set_zlim3d([0.0, 20.0]) ; ax.set_zlabel('Z')\n",
    "\n",
    "# Afficher\n",
    "\n",
    "plt.show()"
   ]
  },
  {
   "cell_type": "code",
   "execution_count": 26,
   "id": "d5582cc1",
   "metadata": {},
   "outputs": [
    {
     "data": {
      "text/plain": [
       "<function matplotlib.pyplot.show(close=None, block=None)>"
      ]
     },
     "execution_count": 26,
     "metadata": {},
     "output_type": "execute_result"
    },
    {
     "data": {
      "image/png": "[encoded data removed]",
      "text/plain": [
       "<Figure size 640x480 with 1 Axes>"
      ]
     },
     "metadata": {},
     "output_type": "display_data"
    }
   ],
   "source": [
    "import numpy as np\n",
    "import matplotlib.pyplot as plt\n",
    "poids1=[60,61,64,67,68,69,70,70,72,73]\n",
    "taille1=[155,162,157,170,164,162,169,170,178,173]\n",
    "poids2=[75,76,78,80,85,90,96,96,98,101]\n",
    "taille2=[180,175,173,175,179,175,180,185,189,187]\n",
    "plt.plot(taille1, poids1,\"go\")\n",
    "plt.plot(taille2, poids2,\"ob\")\n",
    "plt.xlabel('Taille')\n",
    "plt.ylabel('Poids')\n",
    "plt.title('Poids des individus en fonction de leur taille')\n",
    "plt.grid()\n",
    "plt.show\n"
   ]
  },
  {
   "cell_type": "code",
   "execution_count": 27,
   "id": "d03c89e3",
   "metadata": {},
   "outputs": [
    {
     "data": {
      "text/plain": [
       "(array([2., 0., 0., 1., 0., 1., 2., 2., 0., 2.]),\n",
       " array([60. , 61.3, 62.6, 63.9, 65.2, 66.5, 67.8, 69.1, 70.4, 71.7, 73. ]),\n",
       " <BarContainer object of 10 artists>)"
      ]
     },
     "execution_count": 27,
     "metadata": {},
     "output_type": "execute_result"
    },
    {
     "data": {
      "image/png": "[encoded data removed]",
      "text/plain": [
       "<Figure size 640x480 with 1 Axes>"
      ]
     },
     "metadata": {},
     "output_type": "display_data"
    }
   ],
   "source": [
    "plt.hist(poids1)"
   ]
  },
  {
   "cell_type": "code",
   "execution_count": 28,
   "id": "058d6999",
   "metadata": {},
   "outputs": [],
   "source": [
    "def f(x):\n",
    "    return 5*x**2+2*x-34"
   ]
  },
  {
   "cell_type": "code",
   "execution_count": 31,
   "id": "ec2feffc",
   "metadata": {},
   "outputs": [
    {
     "data": {
      "image/png": "[encoded data removed]",
      "text/plain": [
       "<Figure size 640x480 with 1 Axes>"
      ]
     },
     "metadata": {},
     "output_type": "display_data"
    }
   ],
   "source": [
    "import matplotlib.pyplot as plt\n",
    "import numpy as np\n",
    "\n",
    "x = np.linspace(-4, 4, 100)\n",
    "\n",
    "plt.plot(x, f(x))\n",
    "plt.axhline(y=0, color=\"black\")\n",
    "plt.axvline(x=0, color=\"black\")\n",
    "plt.grid()\n",
    "plt.xlabel(\"x\")\n",
    "plt.ylabel(\"f(x)\")\n",
    "plt.title(\"Tracé de f(x)\")\n",
    "plt.show()\n"
   ]
  },
  {
   "cell_type": "code",
   "execution_count": 1,
   "id": "9ae2bf7f",
   "metadata": {},
   "outputs": [
    {
     "data": {
      "text/plain": [
       "'C:\\\\Users\\\\DELL\\\\Documents\\\\Projets python'"
      ]
     },
     "execution_count": 1,
     "metadata": {},
     "output_type": "execute_result"
    }
   ],
   "source": [
    "%pwd"
   ]
  },
  {
   "cell_type": "code",
   "execution_count": 4,
   "id": "ffbaeb0c",
   "metadata": {},
   "outputs": [
    {
     "data": {
      "text/html": [
       "<div>\n",
       "<style scoped>\n",
       "    .dataframe tbody tr th:only-of-type {\n",
       "        vertical-align: middle;\n",
       "    }\n",
       "\n",
       "    .dataframe tbody tr th {\n",
       "        vertical-align: top;\n",
       "    }\n",
       "\n",
       "    .dataframe thead th {\n",
       "        text-align: right;\n",
       "    }\n",
       "</style>\n",
       "<table border=\"1\" class=\"dataframe\">\n",
       "  <thead>\n",
       "    <tr style=\"text-align: right;\">\n",
       "      <th></th>\n",
       "      <th>symbole</th>\n",
       "      <th>date</th>\n",
       "      <th>ouverture</th>\n",
       "      <th>haut</th>\n",
       "      <th>bas</th>\n",
       "      <th>cloture</th>\n",
       "      <th>volume</th>\n",
       "    </tr>\n",
       "  </thead>\n",
       "  <tbody>\n",
       "    <tr>\n",
       "      <th>0</th>\n",
       "      <td>SNTS.sn</td>\n",
       "      <td>01/03/2023</td>\n",
       "      <td>16395</td>\n",
       "      <td>16395</td>\n",
       "      <td>16300</td>\n",
       "      <td>16300</td>\n",
       "      <td>1104</td>\n",
       "    </tr>\n",
       "    <tr>\n",
       "      <th>1</th>\n",
       "      <td>SNTS.sn</td>\n",
       "      <td>02/03/2023</td>\n",
       "      <td>16300</td>\n",
       "      <td>16300</td>\n",
       "      <td>16195</td>\n",
       "      <td>16195</td>\n",
       "      <td>3886</td>\n",
       "    </tr>\n",
       "    <tr>\n",
       "      <th>2</th>\n",
       "      <td>SNTS.sn</td>\n",
       "      <td>03/03/2023</td>\n",
       "      <td>16000</td>\n",
       "      <td>16195</td>\n",
       "      <td>16000</td>\n",
       "      <td>16195</td>\n",
       "      <td>21694</td>\n",
       "    </tr>\n",
       "    <tr>\n",
       "      <th>3</th>\n",
       "      <td>SNTS.sn</td>\n",
       "      <td>06/03/2023</td>\n",
       "      <td>16190</td>\n",
       "      <td>16200</td>\n",
       "      <td>16190</td>\n",
       "      <td>16200</td>\n",
       "      <td>45310</td>\n",
       "    </tr>\n",
       "    <tr>\n",
       "      <th>4</th>\n",
       "      <td>SNTS.sn</td>\n",
       "      <td>07/03/2023</td>\n",
       "      <td>16100</td>\n",
       "      <td>16100</td>\n",
       "      <td>16100</td>\n",
       "      <td>16100</td>\n",
       "      <td>24265</td>\n",
       "    </tr>\n",
       "    <tr>\n",
       "      <th>5</th>\n",
       "      <td>SNTS.sn</td>\n",
       "      <td>08/03/2023</td>\n",
       "      <td>16100</td>\n",
       "      <td>16100</td>\n",
       "      <td>16050</td>\n",
       "      <td>16050</td>\n",
       "      <td>7823</td>\n",
       "    </tr>\n",
       "    <tr>\n",
       "      <th>6</th>\n",
       "      <td>SNTS.sn</td>\n",
       "      <td>09/03/2023</td>\n",
       "      <td>16050</td>\n",
       "      <td>16050</td>\n",
       "      <td>16000</td>\n",
       "      <td>16000</td>\n",
       "      <td>13533</td>\n",
       "    </tr>\n",
       "    <tr>\n",
       "      <th>7</th>\n",
       "      <td>SNTS.sn</td>\n",
       "      <td>10/03/2023</td>\n",
       "      <td>16100</td>\n",
       "      <td>16100</td>\n",
       "      <td>16100</td>\n",
       "      <td>16100</td>\n",
       "      <td>2075</td>\n",
       "    </tr>\n",
       "  </tbody>\n",
       "</table>\n",
       "</div>"
      ],
      "text/plain": [
       "   symbole        date  ouverture   haut    bas  cloture  volume\n",
       "0  SNTS.sn  01/03/2023      16395  16395  16300    16300    1104\n",
       "1  SNTS.sn  02/03/2023      16300  16300  16195    16195    3886\n",
       "2  SNTS.sn  03/03/2023      16000  16195  16000    16195   21694\n",
       "3  SNTS.sn  06/03/2023      16190  16200  16190    16200   45310\n",
       "4  SNTS.sn  07/03/2023      16100  16100  16100    16100   24265\n",
       "5  SNTS.sn  08/03/2023      16100  16100  16050    16050    7823\n",
       "6  SNTS.sn  09/03/2023      16050  16050  16000    16000   13533\n",
       "7  SNTS.sn  10/03/2023      16100  16100  16100    16100    2075"
      ]
     },
     "execution_count": 4,
     "metadata": {},
     "output_type": "execute_result"
    }
   ],
   "source": [
    "import pandas as pd\n",
    "import matplotlib.pyplot as plt\n",
    "x=pd.read_csv('cotations_SNTS.sn.csv', sep=\";\")\n",
    "x"
   ]
  },
  {
   "cell_type": "code",
   "execution_count": 40,
   "id": "39fa584c",
   "metadata": {},
   "outputs": [
    {
     "ename": "SyntaxError",
     "evalue": "invalid syntax (4095538137.py, line 2)",
     "output_type": "error",
     "traceback": [
      "\u001b[1;36m  File \u001b[1;32m\"C:\\Users\\DELL\\AppData\\Local\\Temp\\ipykernel_2236\\4095538137.py\"\u001b[1;36m, line \u001b[1;32m2\u001b[0m\n\u001b[1;33m    plt.style.context('blue'):\u001b[0m\n\u001b[1;37m                              ^\u001b[0m\n\u001b[1;31mSyntaxError\u001b[0m\u001b[1;31m:\u001b[0m invalid syntax\n"
     ]
    }
   ],
   "source": [
    "plt.plot(x['date'],x['cloture'],\"--g\")\n",
    "plt.xlabel(\"date\")\n",
    "plt.ylabel(\"prix\")\n",
    "plt.grid()\n",
    "plt.title(\"Evolution du prix de l'action SONATEL du 1er au 11 Mars 2023\")\n",
    "plt.show()\n"
   ]
  },
  {
   "cell_type": "code",
   "execution_count": 75,
   "id": "55e5e2cb",
   "metadata": {},
   "outputs": [
    {
     "ename": "TypeError",
     "evalue": "randint() missing 1 required positional argument: 'b'",
     "output_type": "error",
     "traceback": [
      "\u001b[1;31m---------------------------------------------------------------------------\u001b[0m",
      "\u001b[1;31mTypeError\u001b[0m                                 Traceback (most recent call last)",
      "\u001b[1;32m~\\AppData\\Local\\Temp\\ipykernel_2236\\1670233062.py\u001b[0m in \u001b[0;36m<module>\u001b[1;34m\u001b[0m\n\u001b[0;32m      5\u001b[0m \u001b[0mx\u001b[0m\u001b[1;33m=\u001b[0m\u001b[1;33m[\u001b[0m\u001b[1;36m1\u001b[0m\u001b[1;33m,\u001b[0m\u001b[1;36m2\u001b[0m\u001b[1;33m,\u001b[0m\u001b[1;36m3\u001b[0m\u001b[1;33m,\u001b[0m\u001b[1;36m4\u001b[0m\u001b[1;33m,\u001b[0m\u001b[1;36m5\u001b[0m\u001b[1;33m,\u001b[0m\u001b[1;36m6\u001b[0m\u001b[1;33m]\u001b[0m\u001b[1;33m\u001b[0m\u001b[1;33m\u001b[0m\u001b[0m\n\u001b[0;32m      6\u001b[0m \u001b[1;32mfor\u001b[0m \u001b[0mi\u001b[0m \u001b[1;32min\u001b[0m \u001b[0mrange\u001b[0m\u001b[1;33m(\u001b[0m\u001b[1;36m1\u001b[0m\u001b[1;33m,\u001b[0m\u001b[0mn\u001b[0m\u001b[1;33m)\u001b[0m\u001b[1;33m:\u001b[0m\u001b[1;33m\u001b[0m\u001b[1;33m\u001b[0m\u001b[0m\n\u001b[1;32m----> 7\u001b[1;33m     \u001b[0my\u001b[0m\u001b[1;33m=\u001b[0m\u001b[0mrandint\u001b[0m\u001b[1;33m(\u001b[0m\u001b[0mx\u001b[0m\u001b[1;33m)\u001b[0m\u001b[1;33m\u001b[0m\u001b[1;33m\u001b[0m\u001b[0m\n\u001b[0m\u001b[0;32m      8\u001b[0m \u001b[0mg\u001b[0m\u001b[1;33m=\u001b[0m\u001b[0mg\u001b[0m\u001b[1;33m+\u001b[0m\u001b[1;36m1\u001b[0m\u001b[1;33m\u001b[0m\u001b[1;33m\u001b[0m\u001b[0m\n\u001b[0;32m      9\u001b[0m \u001b[0mprint\u001b[0m\u001b[1;33m(\u001b[0m\u001b[0my\u001b[0m\u001b[1;33m)\u001b[0m\u001b[1;33m\u001b[0m\u001b[1;33m\u001b[0m\u001b[0m\n",
      "\u001b[1;31mTypeError\u001b[0m: randint() missing 1 required positional argument: 'b'"
     ]
    }
   ],
   "source": [
    "import numpy as np\n",
    "from random import *\n",
    "g=0\n",
    "n=6\n",
    "x=[1,2,3,4,5,6]\n",
    "for i in range(1,n):\n",
    "    y=randint(x)\n",
    "g=g+1\n",
    "print(y)\n",
    "\n",
    "\n"
   ]
  },
  {
   "cell_type": "code",
   "execution_count": 64,
   "id": "01898a9b",
   "metadata": {},
   "outputs": [
    {
     "name": "stdout",
     "output_type": "stream",
     "text": [
      "Je mapplle Arice\n"
     ]
    }
   ],
   "source": [
    "i=1\n",
    "while i<2:\n",
    "    print(\"Je mapplle Arice\")\n",
    "    i=i+1"
   ]
  },
  {
   "cell_type": "code",
   "execution_count": 5,
   "id": "96e34596",
   "metadata": {},
   "outputs": [
    {
     "name": "stdout",
     "output_type": "stream",
     "text": [
      "La volatilité de l'action est de 0.07\n"
     ]
    }
   ],
   "source": [
    "import pandas as pd\n",
    "import numpy as np\n",
    "\n",
    "# Importation des données de prix de l'action\n",
    "data = pd.read_csv(\"cotations_SNTS.sn.csv\",sep=\";\")\n",
    "\n",
    "# Calcul des rendements log-arithmiques\n",
    "log_returns = np.log(data['cloture']/data['cloture'].shift(1))\n",
    "\n",
    "# Calcul de la volatilité\n",
    "volatility = np.sqrt(252) * log_returns.std()\n",
    "\n",
    "print(f\"La volatilité de l'action est de {volatility:.2f}\")"
   ]
  },
  {
   "cell_type": "code",
   "execution_count": 7,
   "id": "febb5fa6",
   "metadata": {},
   "outputs": [
    {
     "data": {
      "text/plain": [
       "1.7320508075688772"
      ]
     },
     "execution_count": 7,
     "metadata": {},
     "output_type": "execute_result"
    }
   ],
   "source": [
    "np.sqrt(3)"
   ]
  },
  {
   "cell_type": "code",
   "execution_count": null,
   "id": "9f743e9e",
   "metadata": {},
   "outputs": [],
   "source": [
    "import numpy as np\n",
    "import matplotlib.pyplot as plt\n",
    "\n",
    "# Définir les paramètres de l'actif sous-jacent\n",
    "S0 = 100  # prix initial de l'actif sous-jacent\n",
    "r = 0.05  # taux d'intérêt sans risque\n",
    "sigma = 0.2  # volatilité de l'actif sous-jacent\n",
    "T = 1  # durée de l'option en années\n",
    "N = 7257600  # nombre de trajectoires à simuler\n",
    "dt = T / 252  # pas de temps\n",
    "\n",
    "# Générer les trajectoires aléatoires\n",
    "z = np.random.standard_normal((N, int(T / dt)))\n",
    "S = np.zeros_like(z)\n",
    "S[:, 0] = S0\n",
    "\n",
    "for t in range(1, int(T / dt)):\n",
    "    S[:, t] = S[:, t - 1] * np.exp((r - 0.5 * sigma**2) * dt + sigma * np.sqrt(dt) * z[:, t])\n",
    "\n",
    "# Calculer les prix des trajectoires\n",
    "K = S0 * np.linspace(0.5, 1.5, 11)\n",
    "call_prices = np.zeros_like(K)\n",
    "\n",
    "for i in range(len(K)):\n",
    "    payoff = np.maximum(S[:, -1] - K[i], 0)\n",
    "    call_prices[i] = np.exp(-r * T) * np.mean(payoff)\n",
    "\n",
    "# Tracer les trajectoires et les prix des options\n",
    "plt.subplot(211)\n",
    "plt.plot(S.T)\n",
    "plt.title(\"Trajectoires futures possibles de l'actif sous-jacent\")\n",
    "\n",
    "plt.subplot(212)\n",
    "plt.plot(K, call_prices)\n",
    "plt.title(\"Prix des options d'achat européennes\")\n",
    "plt.xlabel(\"Prix d'exercice\")\n",
    "plt.ylabel(\"Prix de l'option\")\n",
    "\n",
    "plt.tight_layout()\n",
    "plt.show()\n"
   ]
  },
  {
   "cell_type": "code",
   "execution_count": 6,
   "id": "f525453b",
   "metadata": {},
   "outputs": [
    {
     "ename": "SyntaxError",
     "evalue": "invalid syntax (2147834293.py, line 10)",
     "output_type": "error",
     "traceback": [
      "\u001b[1;36m  File \u001b[1;32m\"C:\\Users\\DELL\\AppData\\Local\\Temp\\ipykernel_14964\\2147834293.py\"\u001b[1;36m, line \u001b[1;32m10\u001b[0m\n\u001b[1;33m    ax.plot_surface(X, Y, Z, rstride=1, cstride=1, cmap=cm.hot)\u001b[0m\n\u001b[1;37m    ^\u001b[0m\n\u001b[1;31mSyntaxError\u001b[0m\u001b[1;31m:\u001b[0m invalid syntax\n"
     ]
    }
   ],
   "source": [
    "from pylab import *\n",
    "from mpl_toolkits.mplot3d import Axes3D\n",
    "fig = figure()\n",
    "ax = Axes3D(fig)\n",
    "X = np.arange(-4, 4, 0.25)\n",
    "Y = np.arange(-4, 4, 0.25)\n",
    "X, Y = np.meshgrid(X, Y)\n",
    "R = np.sqrt(X**2 + Y**2)\n",
    "Z = np.sin(R\n",
    "ax.plot_surface(X, Y, Z, rstride=1, cstride=1, cmap=cm.hot)\n",
    "ax.contourf(X, Y, Z, zdir='z', offset=-2, cmap=cm.hot)\n",
    "ax.set_zlim(-2,2)\n",
    "# savefig('../figures/plot3d_ex.png',dpi=48"
   ]
  },
  {
   "cell_type": "code",
   "execution_count": 7,
   "id": "fa7536ee",
   "metadata": {},
   "outputs": [
    {
     "ename": "SyntaxError",
     "evalue": "unexpected EOF while parsing (2304902678.py, line 40)",
     "output_type": "error",
     "traceback": [
      "\u001b[1;36m  File \u001b[1;32m\"C:\\Users\\DELL\\AppData\\Local\\Temp\\ipykernel_14964\\2304902678.py\"\u001b[1;36m, line \u001b[1;32m40\u001b[0m\n\u001b[1;33m    plt.show()\u001b[0m\n\u001b[1;37m              ^\u001b[0m\n\u001b[1;31mSyntaxError\u001b[0m\u001b[1;31m:\u001b[0m unexpected EOF while parsing\n"
     ]
    }
   ],
   "source": [
    "import numpy as np\n",
    "import matplotlib.pyplot as plt\n",
    "\n",
    "# Définir les paramètres de l'actif sous-jacent\n",
    "S0 = 100  # prix initial de l'actif sous-jacent\n",
    "r = 0.05  # taux d'intérêt sans risque\n",
    "sigma = 0.2  # volatilité de l'actif sous-jacent\n",
    "T = 1  # durée de l'option en années\n",
    "N = 72  # nombre de trajectoires à simuler\n",
    "dt = T / 252  # pas de temps\n",
    "\n",
    "# Générer les trajectoires aléatoires\n",
    "z = np.random.standard_normal((N, int(T / dt)))\n",
    "S = np.zeros_like(z)\n",
    "S[:, 0] = S0\n",
    "\n",
    "for t in range(1, int(T / dt)):\n",
    "    S[:, t] = S[:, t - 1] * np.exp((r - 0.5 * sigma**2) * dt + sigma * np.sqrt(dt) * z[:, t])\n",
    "\n",
    "# Calculer les prix des trajectoires\n",
    "K = S0 * np.linspace(0.5, 1.5, 11)\n",
    "call_prices = np.zeros_like(K)\n",
    "\n",
    "for i in range(len(K)):\n",
    "    payoff = np.maximum(S[:, -1] - K[i], 0)\n",
    "    call_prices[i] = np.exp(-r * T) * np.mean(payoff)\n",
    "\n",
    "# Tracer les trajectoires et les prix des options\n",
    "plt.subplot(211)\n",
    "plt.plot(S.T)\n",
    "plt.title(\"Trajectoires futures possibles de l'actif sous-jacent\")\n",
    "\n",
    "plt.subplot(212)\n",
    "plt.plot(K, call_prices)\n",
    "plt.title(\"Prix des options d'achat européennes\")\n",
    "plt.xlabel(\"Prix d'exercice\")\n",
    "plt.ylabel(\"Prix de l'option\")\n",
    "plt.tight_layout(\n",
    "\n",
    "plt.show()\n"
   ]
  },
  {
   "cell_type": "code",
   "execution_count": 1,
   "id": "8a11b63f",
   "metadata": {},
   "outputs": [
    {
     "name": "stdout",
     "output_type": "stream",
     "text": [
      " * Serving Flask app \"__main__\" (lazy loading)\n",
      " * Environment: production\n",
      "\u001b[31m   WARNING: This is a development server. Do not use it in a production deployment.\u001b[0m\n",
      "\u001b[2m   Use a production WSGI server instead.\u001b[0m\n",
      " * Debug mode: on\n"
     ]
    },
    {
     "name": "stderr",
     "output_type": "stream",
     "text": [
      " * Restarting with watchdog (windowsapi)\n"
     ]
    },
    {
     "ename": "SystemExit",
     "evalue": "1",
     "output_type": "error",
     "traceback": [
      "An exception has occurred, use %tb to see the full traceback.\n",
      "\u001b[1;31mSystemExit\u001b[0m\u001b[1;31m:\u001b[0m 1\n"
     ]
    },
    {
     "name": "stderr",
     "output_type": "stream",
     "text": [
      "C:\\Users\\DELL\\anaconda3\\lib\\site-packages\\IPython\\core\\interactiveshell.py:3465: UserWarning: To exit: use 'exit', 'quit', or Ctrl-D.\n",
      "  warn(\"To exit: use 'exit', 'quit', or Ctrl-D.\", stacklevel=1)\n"
     ]
    }
   ],
   "source": [
    "from flask import Flask\n",
    "\n",
    "app = Flask(__name__)\n",
    "\n",
    "@app.route(\"/\")\n",
    "def home():\n",
    "    return \"Hello, world!\"\n",
    "\n",
    "if __name__ == \"__main__\":\n",
    "    app.run(debug=True)\n"
   ]
  },
  {
   "cell_type": "code",
   "execution_count": 11,
   "id": "9ef9947a",
   "metadata": {},
   "outputs": [
    {
     "data": {
      "text/html": [
       "<div>\n",
       "<style scoped>\n",
       "    .dataframe tbody tr th:only-of-type {\n",
       "        vertical-align: middle;\n",
       "    }\n",
       "\n",
       "    .dataframe tbody tr th {\n",
       "        vertical-align: top;\n",
       "    }\n",
       "\n",
       "    .dataframe thead th {\n",
       "        text-align: right;\n",
       "    }\n",
       "</style>\n",
       "<table border=\"1\" class=\"dataframe\">\n",
       "  <thead>\n",
       "    <tr style=\"text-align: right;\">\n",
       "      <th></th>\n",
       "      <th>symbole</th>\n",
       "      <th>date</th>\n",
       "      <th>ouverture</th>\n",
       "      <th>haut</th>\n",
       "      <th>bas</th>\n",
       "      <th>cloture</th>\n",
       "      <th>volume</th>\n",
       "    </tr>\n",
       "  </thead>\n",
       "  <tbody>\n",
       "    <tr>\n",
       "      <th>0</th>\n",
       "      <td>BOABF.bf</td>\n",
       "      <td>01/02/2023</td>\n",
       "      <td>5150</td>\n",
       "      <td>5350</td>\n",
       "      <td>5150</td>\n",
       "      <td>5350</td>\n",
       "      <td>66</td>\n",
       "    </tr>\n",
       "    <tr>\n",
       "      <th>1</th>\n",
       "      <td>BOABF.bf</td>\n",
       "      <td>02/02/2023</td>\n",
       "      <td>5395</td>\n",
       "      <td>5395</td>\n",
       "      <td>5275</td>\n",
       "      <td>5275</td>\n",
       "      <td>224</td>\n",
       "    </tr>\n",
       "    <tr>\n",
       "      <th>2</th>\n",
       "      <td>BOABF.bf</td>\n",
       "      <td>03/02/2023</td>\n",
       "      <td>5400</td>\n",
       "      <td>5400</td>\n",
       "      <td>5400</td>\n",
       "      <td>5400</td>\n",
       "      <td>226</td>\n",
       "    </tr>\n",
       "    <tr>\n",
       "      <th>3</th>\n",
       "      <td>BOABF.bf</td>\n",
       "      <td>06/02/2023</td>\n",
       "      <td>5115</td>\n",
       "      <td>5500</td>\n",
       "      <td>5115</td>\n",
       "      <td>5500</td>\n",
       "      <td>83</td>\n",
       "    </tr>\n",
       "    <tr>\n",
       "      <th>4</th>\n",
       "      <td>BOABF.bf</td>\n",
       "      <td>07/02/2023</td>\n",
       "      <td>5400</td>\n",
       "      <td>5500</td>\n",
       "      <td>5400</td>\n",
       "      <td>5500</td>\n",
       "      <td>447</td>\n",
       "    </tr>\n",
       "    <tr>\n",
       "      <th>5</th>\n",
       "      <td>BOABF.bf</td>\n",
       "      <td>08/02/2023</td>\n",
       "      <td>5395</td>\n",
       "      <td>5790</td>\n",
       "      <td>5395</td>\n",
       "      <td>5790</td>\n",
       "      <td>3202</td>\n",
       "    </tr>\n",
       "    <tr>\n",
       "      <th>6</th>\n",
       "      <td>BOABF.bf</td>\n",
       "      <td>09/02/2023</td>\n",
       "      <td>5790</td>\n",
       "      <td>5790</td>\n",
       "      <td>5790</td>\n",
       "      <td>5790</td>\n",
       "      <td>11</td>\n",
       "    </tr>\n",
       "    <tr>\n",
       "      <th>7</th>\n",
       "      <td>BOABF.bf</td>\n",
       "      <td>10/02/2023</td>\n",
       "      <td>5360</td>\n",
       "      <td>5700</td>\n",
       "      <td>5360</td>\n",
       "      <td>5700</td>\n",
       "      <td>90</td>\n",
       "    </tr>\n",
       "    <tr>\n",
       "      <th>8</th>\n",
       "      <td>BOABF.bf</td>\n",
       "      <td>13/02/2023</td>\n",
       "      <td>5360</td>\n",
       "      <td>5685</td>\n",
       "      <td>5360</td>\n",
       "      <td>5685</td>\n",
       "      <td>610</td>\n",
       "    </tr>\n",
       "    <tr>\n",
       "      <th>9</th>\n",
       "      <td>BOABF.bf</td>\n",
       "      <td>14/02/2023</td>\n",
       "      <td>5290</td>\n",
       "      <td>5400</td>\n",
       "      <td>5290</td>\n",
       "      <td>5400</td>\n",
       "      <td>115</td>\n",
       "    </tr>\n",
       "    <tr>\n",
       "      <th>10</th>\n",
       "      <td>BOABF.bf</td>\n",
       "      <td>15/02/2023</td>\n",
       "      <td>5250</td>\n",
       "      <td>5250</td>\n",
       "      <td>5210</td>\n",
       "      <td>5210</td>\n",
       "      <td>1446</td>\n",
       "    </tr>\n",
       "    <tr>\n",
       "      <th>11</th>\n",
       "      <td>BOABF.bf</td>\n",
       "      <td>16/02/2023</td>\n",
       "      <td>5250</td>\n",
       "      <td>5350</td>\n",
       "      <td>5250</td>\n",
       "      <td>5350</td>\n",
       "      <td>1060</td>\n",
       "    </tr>\n",
       "    <tr>\n",
       "      <th>12</th>\n",
       "      <td>BOABF.bf</td>\n",
       "      <td>17/02/2023</td>\n",
       "      <td>5255</td>\n",
       "      <td>5350</td>\n",
       "      <td>5255</td>\n",
       "      <td>5350</td>\n",
       "      <td>65</td>\n",
       "    </tr>\n",
       "    <tr>\n",
       "      <th>13</th>\n",
       "      <td>BOABF.bf</td>\n",
       "      <td>20/02/2023</td>\n",
       "      <td>5350</td>\n",
       "      <td>5350</td>\n",
       "      <td>5300</td>\n",
       "      <td>5300</td>\n",
       "      <td>1991</td>\n",
       "    </tr>\n",
       "    <tr>\n",
       "      <th>14</th>\n",
       "      <td>BOABF.bf</td>\n",
       "      <td>21/02/2023</td>\n",
       "      <td>5300</td>\n",
       "      <td>5300</td>\n",
       "      <td>5300</td>\n",
       "      <td>5300</td>\n",
       "      <td>626</td>\n",
       "    </tr>\n",
       "    <tr>\n",
       "      <th>15</th>\n",
       "      <td>BOABF.bf</td>\n",
       "      <td>22/02/2023</td>\n",
       "      <td>5200</td>\n",
       "      <td>5300</td>\n",
       "      <td>5200</td>\n",
       "      <td>5300</td>\n",
       "      <td>2285</td>\n",
       "    </tr>\n",
       "    <tr>\n",
       "      <th>16</th>\n",
       "      <td>BOABF.bf</td>\n",
       "      <td>23/02/2023</td>\n",
       "      <td>5290</td>\n",
       "      <td>5290</td>\n",
       "      <td>5200</td>\n",
       "      <td>5200</td>\n",
       "      <td>167</td>\n",
       "    </tr>\n",
       "  </tbody>\n",
       "</table>\n",
       "</div>"
      ],
      "text/plain": [
       "     symbole        date  ouverture  haut   bas  cloture  volume\n",
       "0   BOABF.bf  01/02/2023       5150  5350  5150     5350      66\n",
       "1   BOABF.bf  02/02/2023       5395  5395  5275     5275     224\n",
       "2   BOABF.bf  03/02/2023       5400  5400  5400     5400     226\n",
       "3   BOABF.bf  06/02/2023       5115  5500  5115     5500      83\n",
       "4   BOABF.bf  07/02/2023       5400  5500  5400     5500     447\n",
       "5   BOABF.bf  08/02/2023       5395  5790  5395     5790    3202\n",
       "6   BOABF.bf  09/02/2023       5790  5790  5790     5790      11\n",
       "7   BOABF.bf  10/02/2023       5360  5700  5360     5700      90\n",
       "8   BOABF.bf  13/02/2023       5360  5685  5360     5685     610\n",
       "9   BOABF.bf  14/02/2023       5290  5400  5290     5400     115\n",
       "10  BOABF.bf  15/02/2023       5250  5250  5210     5210    1446\n",
       "11  BOABF.bf  16/02/2023       5250  5350  5250     5350    1060\n",
       "12  BOABF.bf  17/02/2023       5255  5350  5255     5350      65\n",
       "13  BOABF.bf  20/02/2023       5350  5350  5300     5300    1991\n",
       "14  BOABF.bf  21/02/2023       5300  5300  5300     5300     626\n",
       "15  BOABF.bf  22/02/2023       5200  5300  5200     5300    2285\n",
       "16  BOABF.bf  23/02/2023       5290  5290  5200     5200     167"
      ]
     },
     "execution_count": 11,
     "metadata": {},
     "output_type": "execute_result"
    }
   ],
   "source": [
    "import pandas as pd\n",
    "import matplotlib.pyplot as plt\n",
    "import numpy as np\n",
    "x=pd.read_csv(\"cotations_BOABF.bf.csv\",sep=';')\n",
    "x"
   ]
  },
  {
   "cell_type": "code",
   "execution_count": 14,
   "id": "80cd694b",
   "metadata": {},
   "outputs": [
    {
     "data": {
      "image/png": "[encoded data removed]",
      "text/plain": [
       "<Figure size 640x480 with 1 Axes>"
      ]
     },
     "metadata": {},
     "output_type": "display_data"
    }
   ],
   "source": [
    "plt.plot(x['cloture'],\"-b\")\n",
    "plt.show()"
   ]
  },
  {
   "cell_type": "code",
   "execution_count": 36,
   "id": "583ca180",
   "metadata": {},
   "outputs": [
    {
     "data": {
      "text/html": [
       "<div>\n",
       "<style scoped>\n",
       "    .dataframe tbody tr th:only-of-type {\n",
       "        vertical-align: middle;\n",
       "    }\n",
       "\n",
       "    .dataframe tbody tr th {\n",
       "        vertical-align: top;\n",
       "    }\n",
       "\n",
       "    .dataframe thead th {\n",
       "        text-align: right;\n",
       "    }\n",
       "</style>\n",
       "<table border=\"1\" class=\"dataframe\">\n",
       "  <thead>\n",
       "    <tr style=\"text-align: right;\">\n",
       "      <th></th>\n",
       "      <th>date</th>\n",
       "      <th>ouverture</th>\n",
       "      <th>haut</th>\n",
       "      <th>bas</th>\n",
       "      <th>cloture</th>\n",
       "      <th>volume</th>\n",
       "    </tr>\n",
       "  </thead>\n",
       "  <tbody>\n",
       "    <tr>\n",
       "      <th>0</th>\n",
       "      <td>01/02/2023</td>\n",
       "      <td>5150</td>\n",
       "      <td>5350</td>\n",
       "      <td>5150</td>\n",
       "      <td>5350</td>\n",
       "      <td>66</td>\n",
       "    </tr>\n",
       "    <tr>\n",
       "      <th>1</th>\n",
       "      <td>02/02/2023</td>\n",
       "      <td>5395</td>\n",
       "      <td>5395</td>\n",
       "      <td>5275</td>\n",
       "      <td>5275</td>\n",
       "      <td>224</td>\n",
       "    </tr>\n",
       "    <tr>\n",
       "      <th>2</th>\n",
       "      <td>03/02/2023</td>\n",
       "      <td>5400</td>\n",
       "      <td>5400</td>\n",
       "      <td>5400</td>\n",
       "      <td>5400</td>\n",
       "      <td>226</td>\n",
       "    </tr>\n",
       "    <tr>\n",
       "      <th>3</th>\n",
       "      <td>06/02/2023</td>\n",
       "      <td>5115</td>\n",
       "      <td>5500</td>\n",
       "      <td>5115</td>\n",
       "      <td>5500</td>\n",
       "      <td>83</td>\n",
       "    </tr>\n",
       "    <tr>\n",
       "      <th>4</th>\n",
       "      <td>07/02/2023</td>\n",
       "      <td>5400</td>\n",
       "      <td>5500</td>\n",
       "      <td>5400</td>\n",
       "      <td>5500</td>\n",
       "      <td>447</td>\n",
       "    </tr>\n",
       "    <tr>\n",
       "      <th>5</th>\n",
       "      <td>08/02/2023</td>\n",
       "      <td>5395</td>\n",
       "      <td>5790</td>\n",
       "      <td>5395</td>\n",
       "      <td>5790</td>\n",
       "      <td>3202</td>\n",
       "    </tr>\n",
       "    <tr>\n",
       "      <th>6</th>\n",
       "      <td>09/02/2023</td>\n",
       "      <td>5790</td>\n",
       "      <td>5790</td>\n",
       "      <td>5790</td>\n",
       "      <td>5790</td>\n",
       "      <td>11</td>\n",
       "    </tr>\n",
       "    <tr>\n",
       "      <th>7</th>\n",
       "      <td>10/02/2023</td>\n",
       "      <td>5360</td>\n",
       "      <td>5700</td>\n",
       "      <td>5360</td>\n",
       "      <td>5700</td>\n",
       "      <td>90</td>\n",
       "    </tr>\n",
       "    <tr>\n",
       "      <th>8</th>\n",
       "      <td>13/02/2023</td>\n",
       "      <td>5360</td>\n",
       "      <td>5685</td>\n",
       "      <td>5360</td>\n",
       "      <td>5685</td>\n",
       "      <td>610</td>\n",
       "    </tr>\n",
       "    <tr>\n",
       "      <th>9</th>\n",
       "      <td>14/02/2023</td>\n",
       "      <td>5290</td>\n",
       "      <td>5400</td>\n",
       "      <td>5290</td>\n",
       "      <td>5400</td>\n",
       "      <td>115</td>\n",
       "    </tr>\n",
       "    <tr>\n",
       "      <th>10</th>\n",
       "      <td>15/02/2023</td>\n",
       "      <td>5250</td>\n",
       "      <td>5250</td>\n",
       "      <td>5210</td>\n",
       "      <td>5210</td>\n",
       "      <td>1446</td>\n",
       "    </tr>\n",
       "    <tr>\n",
       "      <th>11</th>\n",
       "      <td>16/02/2023</td>\n",
       "      <td>5250</td>\n",
       "      <td>5350</td>\n",
       "      <td>5250</td>\n",
       "      <td>5350</td>\n",
       "      <td>1060</td>\n",
       "    </tr>\n",
       "    <tr>\n",
       "      <th>12</th>\n",
       "      <td>17/02/2023</td>\n",
       "      <td>5255</td>\n",
       "      <td>5350</td>\n",
       "      <td>5255</td>\n",
       "      <td>5350</td>\n",
       "      <td>65</td>\n",
       "    </tr>\n",
       "    <tr>\n",
       "      <th>13</th>\n",
       "      <td>20/02/2023</td>\n",
       "      <td>5350</td>\n",
       "      <td>5350</td>\n",
       "      <td>5300</td>\n",
       "      <td>5300</td>\n",
       "      <td>1991</td>\n",
       "    </tr>\n",
       "    <tr>\n",
       "      <th>14</th>\n",
       "      <td>21/02/2023</td>\n",
       "      <td>5300</td>\n",
       "      <td>5300</td>\n",
       "      <td>5300</td>\n",
       "      <td>5300</td>\n",
       "      <td>626</td>\n",
       "    </tr>\n",
       "    <tr>\n",
       "      <th>15</th>\n",
       "      <td>22/02/2023</td>\n",
       "      <td>5200</td>\n",
       "      <td>5300</td>\n",
       "      <td>5200</td>\n",
       "      <td>5300</td>\n",
       "      <td>2285</td>\n",
       "    </tr>\n",
       "    <tr>\n",
       "      <th>16</th>\n",
       "      <td>23/02/2023</td>\n",
       "      <td>5290</td>\n",
       "      <td>5290</td>\n",
       "      <td>5200</td>\n",
       "      <td>5200</td>\n",
       "      <td>167</td>\n",
       "    </tr>\n",
       "  </tbody>\n",
       "</table>\n",
       "</div>"
      ],
      "text/plain": [
       "          date  ouverture  haut   bas  cloture  volume\n",
       "0   01/02/2023       5150  5350  5150     5350      66\n",
       "1   02/02/2023       5395  5395  5275     5275     224\n",
       "2   03/02/2023       5400  5400  5400     5400     226\n",
       "3   06/02/2023       5115  5500  5115     5500      83\n",
       "4   07/02/2023       5400  5500  5400     5500     447\n",
       "5   08/02/2023       5395  5790  5395     5790    3202\n",
       "6   09/02/2023       5790  5790  5790     5790      11\n",
       "7   10/02/2023       5360  5700  5360     5700      90\n",
       "8   13/02/2023       5360  5685  5360     5685     610\n",
       "9   14/02/2023       5290  5400  5290     5400     115\n",
       "10  15/02/2023       5250  5250  5210     5210    1446\n",
       "11  16/02/2023       5250  5350  5250     5350    1060\n",
       "12  17/02/2023       5255  5350  5255     5350      65\n",
       "13  20/02/2023       5350  5350  5300     5300    1991\n",
       "14  21/02/2023       5300  5300  5300     5300     626\n",
       "15  22/02/2023       5200  5300  5200     5300    2285\n",
       "16  23/02/2023       5290  5290  5200     5200     167"
      ]
     },
     "execution_count": 36,
     "metadata": {},
     "output_type": "execute_result"
    }
   ],
   "source": [
    "data=pd.read_csv(\"cotations_BOABF.bf.csv\",sep=\";\")\n",
    "data\n"
   ]
  },
  {
   "cell_type": "code",
   "execution_count": 36,
   "id": "eadeac5b",
   "metadata": {},
   "outputs": [
    {
     "name": "stdout",
     "output_type": "stream",
     "text": [
      "9\n"
     ]
    }
   ],
   "source": [
    "import random\n",
    "\n",
    "print(random.randint(0,9))"
   ]
  },
  {
   "cell_type": "code",
   "execution_count": 8,
   "id": "4a1e5620",
   "metadata": {
    "scrolled": false
   },
   "outputs": [
    {
     "data": {
      "image/png": "[encoded data removed]",
      "text/plain": [
       "<Figure size 640x480 with 1 Axes>"
      ]
     },
     "metadata": {},
     "output_type": "display_data"
    }
   ],
   "source": [
    "import matplotlib.pyplot as plt\n",
    "plt.figure(2)\n",
    "Pda = [266, 145, 183, 119, 180, 168, 231, 224, 192, 122, 336, 185, 194,\n",
    "       149, 210, 273, 191, 287, 226, 303, 289, 421, 264, 342, 339, 440,\n",
    "       315, 439, 401, 437, 575, 407, 682, 475, 581, 646]\n",
    "Pds = [355, 204, 196, 189, 169, 236, 458, 106, 205, 111, 203, 340, 198,\n",
    "       321, 178, 362, 324, 498, 427, 536, 263, 333, 268, 254, 125, 317,\n",
    "       262, 328, 471, 325, 412, 354, 625, 589, 547, 231]\n",
    "plt.bar(range(len(Pda)), Pda, label = \"Parcours Data Analyst\",color ='#16369b' )\n",
    "plt.bar(range(len(Pds)), Pds, bottom = Pda, label = \"Parcours Data Scientist\",color ='#16e5cb' )\n",
    "plt.xticks([0,7,13,19,26,32], ['Jan', 'Mars', 'Mai', 'Juillet', 'Sept', 'Nov'])\n",
    "plt.title(\"Répartition des parcours de DataScientest en fonction du mois\")\n",
    "plt.legend();"
   ]
  },
  {
   "cell_type": "code",
   "execution_count": 77,
   "id": "2f7ff107",
   "metadata": {
    "scrolled": false
   },
   "outputs": [
    {
     "ename": "NameError",
     "evalue": "name 'BOABF' is not defined",
     "output_type": "error",
     "traceback": [
      "\u001b[1;31m---------------------------------------------------------------------------\u001b[0m",
      "\u001b[1;31mNameError\u001b[0m                                 Traceback (most recent call last)",
      "\u001b[1;32m~\\AppData\\Local\\Temp\\ipykernel_3808\\583571813.py\u001b[0m in \u001b[0;36m<module>\u001b[1;34m\u001b[0m\n\u001b[0;32m      1\u001b[0m \u001b[1;32mimport\u001b[0m \u001b[0mpandas\u001b[0m \u001b[1;32mas\u001b[0m \u001b[0mpd\u001b[0m\u001b[1;33m\u001b[0m\u001b[1;33m\u001b[0m\u001b[0m\n\u001b[0;32m      2\u001b[0m \u001b[1;32mimport\u001b[0m \u001b[0mnumpy\u001b[0m \u001b[1;32mas\u001b[0m \u001b[0mnp\u001b[0m\u001b[1;33m\u001b[0m\u001b[1;33m\u001b[0m\u001b[0m\n\u001b[1;32m----> 3\u001b[1;33m \u001b[0mdata\u001b[0m\u001b[1;33m=\u001b[0m\u001b[0mpd\u001b[0m\u001b[1;33m.\u001b[0m\u001b[0mread_csv\u001b[0m\u001b[1;33m(\u001b[0m\u001b[0mBOABF\u001b[0m\u001b[1;33m,\u001b[0m\u001b[0msep\u001b[0m\u001b[1;33m=\u001b[0m\u001b[1;34m\";\"\u001b[0m\u001b[1;33m)\u001b[0m\u001b[1;33m\u001b[0m\u001b[1;33m\u001b[0m\u001b[0m\n\u001b[0m\u001b[0;32m      4\u001b[0m \u001b[0mx\u001b[0m\u001b[1;33m=\u001b[0m\u001b[0mdata\u001b[0m\u001b[1;33m.\u001b[0m\u001b[0miloc\u001b[0m\u001b[1;33m[\u001b[0m\u001b[1;36m0\u001b[0m\u001b[1;33m:\u001b[0m\u001b[1;36m18\u001b[0m\u001b[1;33m,\u001b[0m\u001b[1;36m1\u001b[0m\u001b[1;33m:\u001b[0m\u001b[1;36m2\u001b[0m\u001b[1;33m]\u001b[0m\u001b[1;33m\u001b[0m\u001b[1;33m\u001b[0m\u001b[0m\n\u001b[0;32m      5\u001b[0m \u001b[0my\u001b[0m\u001b[1;33m=\u001b[0m\u001b[0mdata\u001b[0m\u001b[1;33m.\u001b[0m\u001b[0miloc\u001b[0m\u001b[1;33m[\u001b[0m\u001b[1;36m1\u001b[0m\u001b[1;33m:\u001b[0m\u001b[1;36m19\u001b[0m\u001b[1;33m,\u001b[0m\u001b[1;36m1\u001b[0m\u001b[1;33m:\u001b[0m\u001b[1;36m2\u001b[0m\u001b[1;33m]\u001b[0m\u001b[1;33m\u001b[0m\u001b[1;33m\u001b[0m\u001b[0m\n",
      "\u001b[1;31mNameError\u001b[0m: name 'BOABF' is not defined"
     ]
    }
   ],
   "source": [
    "import pandas as pd\n",
    "import numpy as np\n",
    "data=pd.read_csv(BOABF,sep=\";\")\n",
    "x=data.iloc[0:18,1:2]\n",
    "y=data.iloc[1:19,1:2]\n",
    "x_train=x.iloc[0:12,:].values\n",
    "y_train=y.iloc[0:12,:].values\n",
    "x_test=x.iloc[12:18,:].values\n",
    "y_test=y.iloc[12:18,:].values\n",
    "from sklearn.linear_model import LinearRegression\n",
    "reg=LinearRegression()\n",
    "reg.fit(x_train,y_train)\n",
    "y_pred=reg.predict(x_test)\n",
    "import matplotlib.pyplot as plt\n",
    "plt.plot(y_pred,'go-')\n",
    "plt.plot(y_test,'ro-')\n",
    "plt.show()\n",
    "\n",
    "\n",
    "\n"
   ]
  },
  {
   "cell_type": "code",
   "execution_count": 75,
   "id": "e23a410f",
   "metadata": {},
   "outputs": [
    {
     "data": {
      "text/plain": [
       "'C:\\\\Users\\\\DELL\\\\Documents\\\\Projets python'"
      ]
     },
     "execution_count": 75,
     "metadata": {},
     "output_type": "execute_result"
    }
   ],
   "source": [
    "%pwd"
   ]
  },
  {
   "cell_type": "code",
   "execution_count": 80,
   "id": "8fcad8dc",
   "metadata": {},
   "outputs": [
    {
     "ename": "NameError",
     "evalue": "name 'cotations_BOABF' is not defined",
     "output_type": "error",
     "traceback": [
      "\u001b[1;31m---------------------------------------------------------------------------\u001b[0m",
      "\u001b[1;31mNameError\u001b[0m                                 Traceback (most recent call last)",
      "\u001b[1;32m~\\AppData\\Local\\Temp\\ipykernel_3808\\1528675967.py\u001b[0m in \u001b[0;36m<module>\u001b[1;34m\u001b[0m\n\u001b[0;32m      1\u001b[0m \u001b[1;32mimport\u001b[0m \u001b[0mpandas\u001b[0m \u001b[1;32mas\u001b[0m \u001b[0mpd\u001b[0m\u001b[1;33m\u001b[0m\u001b[1;33m\u001b[0m\u001b[0m\n\u001b[0;32m      2\u001b[0m \u001b[1;32mimport\u001b[0m \u001b[0mnumpy\u001b[0m \u001b[1;32mas\u001b[0m \u001b[0mnp\u001b[0m\u001b[1;33m\u001b[0m\u001b[1;33m\u001b[0m\u001b[0m\n\u001b[1;32m----> 3\u001b[1;33m \u001b[0mdata\u001b[0m\u001b[1;33m=\u001b[0m\u001b[0mpd\u001b[0m\u001b[1;33m.\u001b[0m\u001b[0mread_csv\u001b[0m\u001b[1;33m(\u001b[0m\u001b[0mcotations_BOABF\u001b[0m\u001b[1;33m.\u001b[0m\u001b[0mbf\u001b[0m\u001b[1;33m.\u001b[0m\u001b[0mcsv\u001b[0m\u001b[1;33m,\u001b[0m\u001b[0msep\u001b[0m\u001b[1;33m=\u001b[0m\u001b[1;34m\";\"\u001b[0m\u001b[1;33m)\u001b[0m\u001b[1;33m\u001b[0m\u001b[1;33m\u001b[0m\u001b[0m\n\u001b[0m\u001b[0;32m      4\u001b[0m \u001b[0mx\u001b[0m\u001b[1;33m=\u001b[0m\u001b[0mdata\u001b[0m\u001b[1;33m.\u001b[0m\u001b[0miloc\u001b[0m\u001b[1;33m[\u001b[0m\u001b[1;36m0\u001b[0m\u001b[1;33m:\u001b[0m\u001b[1;36m18\u001b[0m\u001b[1;33m,\u001b[0m\u001b[1;36m1\u001b[0m\u001b[1;33m:\u001b[0m\u001b[1;36m2\u001b[0m\u001b[1;33m]\u001b[0m\u001b[1;33m\u001b[0m\u001b[1;33m\u001b[0m\u001b[0m\n\u001b[0;32m      5\u001b[0m \u001b[0my\u001b[0m\u001b[1;33m=\u001b[0m\u001b[0mdata\u001b[0m\u001b[1;33m.\u001b[0m\u001b[0miloc\u001b[0m\u001b[1;33m[\u001b[0m\u001b[1;36m1\u001b[0m\u001b[1;33m:\u001b[0m\u001b[1;36m19\u001b[0m\u001b[1;33m,\u001b[0m\u001b[1;36m1\u001b[0m\u001b[1;33m:\u001b[0m\u001b[1;36m2\u001b[0m\u001b[1;33m]\u001b[0m\u001b[1;33m\u001b[0m\u001b[1;33m\u001b[0m\u001b[0m\n",
      "\u001b[1;31mNameError\u001b[0m: name 'cotations_BOABF' is not defined"
     ]
    }
   ],
   "source": [
    "import pandas as pd\n",
    "import numpy as np\n",
    "data=pd.read_csv(cotations_BOABF.bf.csv,sep=\";\")\n",
    "x=data.iloc[0:18,1:2]\n",
    "y=data.iloc[1:19,1:2]\n",
    "x_train=x.iloc[0:12,:].values\n",
    "y_train=y.iloc[0:12,:].values\n",
    "x_test=x.iloc[12:18,:].values\n",
    "y_test=y.iloc[12:18,:].values\n",
    "from sklearn.linear_model import LinearRegression\n",
    "reg=LinearRegression()\n",
    "reg.fit(x_train,y_train)\n",
    "y_pred=reg.predict(x_test)\n",
    "import matplotlib.pyplot as plt\n",
    "plt.plot(y_pred,'go-')\n",
    "plt.plot(y_test,'ro-')\n",
    "plt.show()\n"
   ]
  },
  {
   "cell_type": "code",
   "execution_count": null,
   "id": "5defae50",
   "metadata": {},
   "outputs": [],
   "source": []
  }
 ],
 "metadata": {
  "kernelspec": {
   "display_name": "Python 3 (ipykernel)",
   "language": "python",
   "name": "python3"
  },
  "language_info": {
   "codemirror_mode": {
    "name": "ipython",
    "version": 3
   },
   "file_extension": ".py",
   "mimetype": "text/x-python",
   "name": "python",
   "nbconvert_exporter": "python",
   "pygments_lexer": "ipython3",
   "version": "3.9.13"
  }
 },
 "nbformat": 4,
 "nbformat_minor": 5
}
